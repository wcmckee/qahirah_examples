{
 "cells": [
  {
   "cell_type": "code",
   "execution_count": 1,
   "metadata": {
    "collapsed": false
   },
   "outputs": [
    {
     "ename": "SyntaxError",
     "evalue": "Non-ASCII character '\\xe2' in file /usr/local/lib/python2.7/dist-packages/qahirah.py on line 5, but no encoding declared; see http://python.org/dev/peps/pep-0263/ for details (qahirah.py, line 4)",
     "output_type": "error",
     "traceback": [
      "\u001b[1;36m  File \u001b[1;32m\"/usr/local/lib/python2.7/dist-packages/qahirah.py\"\u001b[1;36m, line \u001b[1;32m4\u001b[0m\n\u001b[1;33m    Cairo API where this makes sense. For example, it defines a “Vector”\u001b[0m\n\u001b[1;37m                                                                        ^\u001b[0m\n\u001b[1;31mSyntaxError\u001b[0m\u001b[1;31m:\u001b[0m Non-ASCII character '\\xe2' in file /usr/local/lib/python2.7/dist-packages/qahirah.py on line 5, but no encoding declared; see http://python.org/dev/peps/pep-0263/ for details\n"
     ]
    }
   ],
   "source": [
    "#!/usr/bin/python3\n",
    "#+\n",
    "# Demo of text and font support in Qahirah. For best results,\n",
    "# your system should have a decent range of fonts installed.\n",
    "#\n",
    "# Copyright 2015 by Lawrence D'Oliveiro <ldo@geek-central.gen.nz>.\n",
    "# This script is licensed CC0\n",
    "# <https://creativecommons.org/publicdomain/zero/1.0/>; do with it\n",
    "# what you will.\n",
    "#-\n",
    "\n",
    "import sys\n",
    "import os\n",
    "import qahirah as qah\n",
    "CAIRO = qah.CAIRO\n",
    "Vector = qah.Vector\n",
    "\n",
    "font_names = \\\n",
    "    ( # some popular names to try\n",
    "        \"courier\")\n",
    "font_size = 48\n",
    "line_spacing = 1.5\n",
    "shadow_offset = 1.5\n",
    "shadow_thickness = 1.0\n",
    "\n",
    "pix = qah.ImageSurface.create \\\n",
    "  (\n",
    "    format = CAIRO.FORMAT_RGB24,\n",
    "    dimensions = round(Vector(640, 420))\n",
    "  )\n",
    "g = qah.Context(pix)\n",
    "g.set_source_rgb(.2, .5, .5)\n",
    "g.paint()\n",
    "g.set_source_rgb(.8, 1, .8)\n",
    "g.set_font_size(font_size)\n",
    "\n",
    "pos = Vector(80, font_size * line_spacing / 1)\n",
    "for font_name in font_names :\n",
    "    plain_face = qah.FontFace.create_for_pattern(font_name)\n",
    "    g.font_face = plain_face\n",
    "    g.move_to(pos)\n",
    "    g.show_text('BroBeur')\n",
    "    for name, suffix in \\\n",
    "        (\n",
    "            (\"cybercafe\", \":slant=italic\"),\n",
    "            #(\"bold\", \":weight=bold\"),\n",
    "            #(\"bold-italic\", \":slant=italic:weight=bold\"),\n",
    "        ) \\\n",
    "    :\n",
    "        g.font_face = qah.FontFace.create_for_pattern(font_name + suffix)\n",
    "        g.show_text(\" \" + name)\n",
    "    #end for\n",
    "    g.font_face = plain_face\n",
    "\n",
    "\n",
    "pix.flush()\n",
    "pix.write_to_png(\"%s.png\" % os.path.basename(sys.argv[0]))\n"
   ]
  },
  {
   "cell_type": "code",
   "execution_count": null,
   "metadata": {
    "collapsed": true
   },
   "outputs": [],
   "source": []
  }
 ],
 "metadata": {
  "kernelspec": {
   "display_name": "Python 2",
   "name": "python2"
  },
  "language_info": {
   "codemirror_mode": {
    "name": "ipython",
    "version": 2
   },
   "file_extension": ".py",
   "mimetype": "text/x-python",
   "name": "python",
   "nbconvert_exporter": "python",
   "pygments_lexer": "ipython2",
   "version": "2.7.8"
  }
 },
 "nbformat": 4,
 "nbformat_minor": 0
}
