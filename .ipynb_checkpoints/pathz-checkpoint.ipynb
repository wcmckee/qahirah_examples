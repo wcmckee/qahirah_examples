{
 "cells": [
  {
   "cell_type": "code",
   "execution_count": 20,
   "metadata": {
    "collapsed": true
   },
   "outputs": [],
   "source": [
    "import random\n",
    "import os\n",
    "import getpass"
   ]
  },
  {
   "cell_type": "code",
   "execution_count": 13,
   "metadata": {
    "collapsed": false
   },
   "outputs": [],
   "source": [
    "rancol = random.choice([0.4, 0.5, 0.6])"
   ]
  },
  {
   "cell_type": "code",
   "execution_count": 14,
   "metadata": {
    "collapsed": false
   },
   "outputs": [],
   "source": [
    "ranmor = rancol + 0.2"
   ]
  },
  {
   "cell_type": "code",
   "execution_count": 15,
   "metadata": {
    "collapsed": true
   },
   "outputs": [],
   "source": [
    "ranlor = ranmor - 0.2"
   ]
  },
  {
   "cell_type": "code",
   "execution_count": 21,
   "metadata": {
    "collapsed": true
   },
   "outputs": [],
   "source": [
    "usrna = getpass.getuser()"
   ]
  },
  {
   "cell_type": "code",
   "execution_count": 22,
   "metadata": {
    "collapsed": false
   },
   "outputs": [
    {
     "data": {
      "text/plain": [
       "'wcmckee'"
      ]
     },
     "execution_count": 22,
     "metadata": {},
     "output_type": "execute_result"
    }
   ],
   "source": [
    "usrna"
   ]
  },
  {
   "cell_type": "code",
   "execution_count": 23,
   "metadata": {
    "collapsed": true
   },
   "outputs": [],
   "source": [
    "qahpath = ('/home/' + usrna + '/qah')"
   ]
  },
  {
   "cell_type": "code",
   "execution_count": 24,
   "metadata": {
    "collapsed": false
   },
   "outputs": [
    {
     "data": {
      "text/plain": [
       "'/home/wcmckee/qah'"
      ]
     },
     "execution_count": 24,
     "metadata": {},
     "output_type": "execute_result"
    }
   ],
   "source": [
    "qahpath"
   ]
  },
  {
   "cell_type": "code",
   "execution_count": 17,
   "metadata": {
    "collapsed": false
   },
   "outputs": [
    {
     "data": {
      "text/plain": [
       "0.6000000000000001"
      ]
     },
     "execution_count": 17,
     "metadata": {},
     "output_type": "execute_result"
    }
   ],
   "source": [
    "ranmor"
   ]
  },
  {
   "cell_type": "code",
   "execution_count": 18,
   "metadata": {
    "collapsed": false
   },
   "outputs": [
    {
     "data": {
      "text/plain": [
       "0.4000000000000001"
      ]
     },
     "execution_count": 18,
     "metadata": {},
     "output_type": "execute_result"
    }
   ],
   "source": [
    "ranlor"
   ]
  },
  {
   "cell_type": "code",
   "execution_count": 1,
   "metadata": {
    "collapsed": false
   },
   "outputs": [
    {
     "ename": "SyntaxError",
     "evalue": "Non-ASCII character '\\xe2' in file /usr/local/lib/python2.7/dist-packages/qahirah.py on line 5, but no encoding declared; see http://python.org/dev/peps/pep-0263/ for details (qahirah.py, line 4)",
     "output_type": "error",
     "traceback": [
      "\u001b[1;36m  File \u001b[1;32m\"/usr/local/lib/python2.7/dist-packages/qahirah.py\"\u001b[1;36m, line \u001b[1;32m4\u001b[0m\n\u001b[1;33m    Cairo API where this makes sense. For example, it defines a “Vector”\u001b[0m\n\u001b[1;37m                                                                        ^\u001b[0m\n\u001b[1;31mSyntaxError\u001b[0m\u001b[1;31m:\u001b[0m Non-ASCII character '\\xe2' in file /usr/local/lib/python2.7/dist-packages/qahirah.py on line 5, but no encoding declared; see http://python.org/dev/peps/pep-0263/ for details\n"
     ]
    }
   ],
   "source": [
    "#!/usr/bin/python3\n",
    "#+\n",
    "# Demo of text and font support in Qahirah. For best results,\n",
    "# your system should have a decent range of fonts installed.\n",
    "#\n",
    "# Copyright 2015 by Lawrence D'Oliveiro <ldo@geek-central.gen.nz>.\n",
    "# This script is licensed CC0\n",
    "# <https://creativecommons.org/publicdomain/zero/1.0/>; do with it\n",
    "# what you will.\n",
    "#-\n",
    "\n",
    "import sys\n",
    "import os\n",
    "import qahirah as qah\n",
    "CAIRO = qah.CAIRO\n",
    "Vector = qah.Vector\n",
    "\n",
    "font_names = \\\n",
    "    ( # some popular names to try\n",
    "        \"courier\")\n",
    "font_size = 48\n",
    "line_spacing = 1.5\n",
    "shadow_offset = 1.5\n",
    "shadow_thickness = 1.0\n",
    "\n",
    "pix = qah.ImageSurface.create \\\n",
    "  (\n",
    "    format = CAIRO.FORMAT_RGB24,\n",
    "    dimensions = round(Vector(640, 420))\n",
    "  )\n",
    "g = qah.Context(pix)\n",
    "g.set_source_rgb(rancol, ranlor, ranmor)\n",
    "g.paint()\n",
    "g.set_source_rgb(ranmor, rancol, rancol)\n",
    "g.set_font_size(font_size)\n",
    "\n",
    "pos = Vector(80, font_size * line_spacing / 1)\n",
    "for font_name in font_names :\n",
    "    plain_face = qah.FontFace.create_for_pattern(font_name)\n",
    "    g.font_face = plain_face\n",
    "    g.move_to(pos)\n",
    "    g.show_text('BroBeur')\n",
    "    for name, suffix in \\\n",
    "        (\n",
    "            (\"cybercafe\", \":slant=italic\"),\n",
    "            #(\"bold\", \":weight=bold\"),\n",
    "            #(\"bold-italic\", \":slant=italic:weight=bold\"),\n",
    "        ) \\\n",
    "    :\n",
    "        g.font_face = qah.FontFace.create_for_pattern(font_name + suffix)\n",
    "        g.show_text(\" \" + name)\n",
    "    #end for\n",
    "    g.font_face = plain_face\n",
    "\n",
    "\n",
    "pix.flush()\n",
    "pix.write_to_png(qahpath + \"/logo.png\")\n"
   ]
  },
  {
   "cell_type": "code",
   "execution_count": null,
   "metadata": {
    "collapsed": true
   },
   "outputs": [],
   "source": []
  }
 ],
 "metadata": {
  "kernelspec": {
   "display_name": "Python 2",
   "name": "python2"
  },
  "language_info": {
   "codemirror_mode": {
    "name": "ipython",
    "version": 2
   },
   "file_extension": ".py",
   "mimetype": "text/x-python",
   "name": "python",
   "nbconvert_exporter": "python",
   "pygments_lexer": "ipython2",
   "version": "2.7.8"
  }
 },
 "nbformat": 4,
 "nbformat_minor": 0
}
